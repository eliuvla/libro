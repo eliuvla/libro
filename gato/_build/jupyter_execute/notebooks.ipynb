{
 "cells": [
  {
   "cell_type": "markdown",
   "metadata": {},
   "source": [
    "# código de rolón\n"
   ]
  },
  {
   "cell_type": "code",
   "execution_count": 1,
   "metadata": {},
   "outputs": [
    {
     "name": "stdout",
     "output_type": "stream",
     "text": [
      "1\n",
      "2\n",
      "3\n",
      "tamarindo\n",
      "\n",
      "1\n",
      "2\n",
      "3\n",
      "tamarindo\n",
      "\n",
      "1\n",
      "2\n",
      "3\n",
      "tamarindo\n",
      "\n",
      "1\n",
      "2\n",
      "3\n",
      "tamarindo\n",
      "\n",
      "1\n",
      "2\n",
      "3\n",
      "tamarindo\n",
      "\n",
      "1\n",
      "2\n",
      "3\n",
      "tamarindo\n",
      "\n",
      "1\n",
      "2\n",
      "3\n",
      "tamarindo\n",
      "\n",
      "1\n",
      "2\n",
      "3\n",
      "tamarindo\n",
      "\n",
      "1\n",
      "2\n",
      "3\n",
      "tamarindo\n",
      "\n",
      "1\n",
      "2\n",
      "3\n",
      "tamarindo\n",
      "\n"
     ]
    }
   ],
   "source": [
    "for i in range(10):\n",
    "    for j in range(3):\n",
    "        print(j+1)\n",
    "    \n",
    "    print(\"tamarindo\\n\")\n"
   ]
  },
  {
   "cell_type": "markdown",
   "metadata": {},
   "source": [
    "There is a lot more that you can do with outputs (such as including interactive outputs)\n",
    "with your book. For more information about this, see [the Jupyter Book documentation](https://jupyterbook.org)"
   ]
  }
 ],
 "metadata": {
  "kernelspec": {
   "display_name": "Python 3",
   "language": "python",
   "name": "python3"
  },
  "language_info": {
   "codemirror_mode": {
    "name": "ipython",
    "version": 3
   },
   "file_extension": ".py",
   "mimetype": "text/x-python",
   "name": "python",
   "nbconvert_exporter": "python",
   "pygments_lexer": "ipython3",
   "version": "3.9.1"
  },
  "widgets": {
   "application/vnd.jupyter.widget-state+json": {
    "state": {},
    "version_major": 2,
    "version_minor": 0
   }
  }
 },
 "nbformat": 4,
 "nbformat_minor": 4
}